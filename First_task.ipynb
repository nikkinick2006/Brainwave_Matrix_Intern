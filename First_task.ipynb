{
 "cells": [
  {
   "cell_type": "code",
   "execution_count": null,
   "metadata": {},
   "outputs": [],
   "source": [
    "import pandas as pd\n",
    "import matplotlib.pyplot as plt\n",
    "import seaborn as sns\n",
    "\n",
    "# Loading dataset obtained from kaggle\n",
    "df = pd.read_csv(\"amazon.csv\")\n",
    "print(df)\n"
   ]
  },
  {
   "cell_type": "code",
   "execution_count": null,
   "metadata": {},
   "outputs": [],
   "source": [
    "# Clean data\n",
    "df['discounted_price'] = df['discounted_price'].str.replace('₹','').str.replace(',','').astype(float)\n",
    "df['actual_price'] = df['actual_price'].str.replace('₹','').str.replace(',','').astype(float)\n",
    "df['discount_percentage'] = df['discount_percentage'].str.replace('%','').astype(float)\n",
    "df['rating'] = pd.to_numeric(df['rating'], errors='coerce')\n",
    "df['rating_count'] = df['rating_count'].dropna().str.replace(',', '').astype(float)\n",
    "df_cleaned = df.dropna()"
   ]
  },
  {
   "cell_type": "code",
   "execution_count": null,
   "metadata": {},
   "outputs": [],
   "source": [
    "#Data Overview\n",
    "print(\"Dataset Shape:\", df.shape)\n",
    "print(\"\\nColumn Names:\\n\", df.columns.tolist())\n",
    "print(\"\\nMissing Values:\\n\", df.isnull().sum())\n",
    "print(\"\\nData Types:\\n\", df.dtypes)\n"
   ]
  },
  {
   "cell_type": "code",
   "execution_count": null,
   "metadata": {},
   "outputs": [],
   "source": [
    "print(\"\\nTop 5 Product Categories:\")\n",
    "print(df_cleaned['category'].value_counts().head(5))\n"
   ]
  },
  {
   "cell_type": "code",
   "execution_count": null,
   "metadata": {},
   "outputs": [],
   "source": [
    "#Price range\n",
    "print(\"\\nMost Expensive Product:\")\n",
    "print(df_cleaned[df_cleaned['discounted_price'] == df_cleaned['discounted_price'].max()][['product_name', 'discounted_price', 'actual_price']])\n",
    "\n",
    "print(\"\\nCheapest Product:\")\n",
    "print(df_cleaned[df_cleaned['discounted_price'] == df_cleaned['discounted_price'].min()][['product_name', 'discounted_price', 'actual_price']])\n"
   ]
  },
  {
   "cell_type": "code",
   "execution_count": null,
   "metadata": {},
   "outputs": [],
   "source": [
    "#discount analysis\n",
    "average_discount = df_cleaned['discount_percentage'].mean()\n",
    "print(f\"\\nAverage Discount Percentage: {average_discount:.2f}%\")\n",
    "\n",
    "print(\"\\nTop 5 Most Discounted Products:\")\n",
    "print(df_cleaned.sort_values(by='discount_percentage', ascending=False)[['product_name', 'discount_percentage']].head())\n"
   ]
  },
  {
   "cell_type": "code",
   "execution_count": null,
   "metadata": {},
   "outputs": [],
   "source": [
    "#rating statistics\n",
    "print(\"\\nRating Summary:\")\n",
    "print(df_cleaned['rating'].describe())\n",
    "\n",
    "print(\"\\nProducts with Perfect 5-Star Rating:\")\n",
    "print(df_cleaned[df_cleaned['rating'] == 5][['product_name', 'rating', 'rating_count']].head())\n",
    "\n",
    "print(\"\\nProducts with Lowest Ratings:\")\n",
    "print(df_cleaned[df_cleaned['rating'] == df_cleaned['rating'].min()][['product_name', 'rating']].head())\n"
   ]
  },
  {
   "cell_type": "code",
   "execution_count": null,
   "metadata": {},
   "outputs": [],
   "source": [
    "# Plot 1: Top 10 categories\n",
    "category_counts = df_cleaned['category'].value_counts().nlargest(10)\n",
    "plt.figure(figsize=(12, 6))\n",
    "sns.barplot(x=category_counts.values, y=category_counts.index, palette=\"viridis\")\n",
    "plt.title(\"Top 10 Product Categories by Frequency\")\n",
    "plt.xlabel(\"Number of Products\")\n",
    "plt.ylabel(\"Category\")\n",
    "plt.tight_layout()\n",
    "plt.show()"
   ]
  },
  {
   "cell_type": "code",
   "execution_count": null,
   "metadata": {},
   "outputs": [],
   "source": [
    "# Plot 2: Price Distribution\n",
    "plt.figure(figsize=(10, 6))\n",
    "sns.histplot(df_cleaned['discounted_price'], bins=40, kde=True, color='blue')\n",
    "plt.title(\"Distribution of Discounted Prices\")\n",
    "plt.xlabel(\"Discounted Price (INR)\")\n",
    "plt.ylabel(\"Number of Products\")\n",
    "plt.tight_layout()\n",
    "plt.show()"
   ]
  },
  {
   "cell_type": "code",
   "execution_count": null,
   "metadata": {},
   "outputs": [],
   "source": [
    "# Plot 3: Rating Distribution\n",
    "plt.figure(figsize=(8, 5))\n",
    "sns.countplot(x='rating', data=df_cleaned, palette='coolwarm')\n",
    "plt.title(\"Product Rating Distribution\")\n",
    "plt.xlabel(\"Rating\")\n",
    "plt.ylabel(\"Number of Products\")\n",
    "plt.tight_layout()\n",
    "plt.show()"
   ]
  },
  {
   "cell_type": "code",
   "execution_count": null,
   "metadata": {},
   "outputs": [],
   "source": [
    "# Plot 4: Discount vs Rating\n",
    "plt.figure(figsize=(10, 6))\n",
    "sns.scatterplot(x='discount_percentage', y='rating', data=df_cleaned, hue='rating', palette='viridis', alpha=0.6)\n",
    "plt.title(\"Discount Percentage vs. Rating\")\n",
    "plt.xlabel(\"Discount Percentage\")\n",
    "plt.ylabel(\"Rating\")\n",
    "plt.tight_layout()\n",
    "plt.show()"
   ]
  },
  {
   "cell_type": "code",
   "execution_count": null,
   "metadata": {},
   "outputs": [],
   "source": [
    "# Plot 5: Correlation Heatmap\n",
    "plt.figure(figsize=(8, 6))\n",
    "numerical_data = df_cleaned[['discounted_price', 'actual_price', 'discount_percentage', 'rating', 'rating_count']]\n",
    "sns.heatmap(numerical_data.corr(), annot=True, cmap='coolwarm', fmt=\".2f\")\n",
    "plt.title(\"Correlation Matrix\")\n",
    "plt.tight_layout()\n",
    "plt.show()\n",
    "\n",
    "\n"
   ]
  }
 ],
 "metadata": {
  "kernelspec": {
   "display_name": "base",
   "language": "python",
   "name": "python3"
  },
  "language_info": {
   "codemirror_mode": {
    "name": "ipython",
    "version": 3
   },
   "file_extension": ".py",
   "mimetype": "text/x-python",
   "name": "python",
   "nbconvert_exporter": "python",
   "pygments_lexer": "ipython3",
   "version": "3.12.7"
  }
 },
 "nbformat": 4,
 "nbformat_minor": 2
}
